{
 "cells": [
  {
   "cell_type": "markdown",
   "id": "8e852c51-d1d7-4ca8-a7e1-11bf3724439d",
   "metadata": {},
   "source": [
    "Q1. What is Abstraction in OOps? Explain with an example."
   ]
  },
  {
   "cell_type": "markdown",
   "id": "3116c7c6-f1e3-4af7-a779-10dc98d2aaf5",
   "metadata": {},
   "source": [
    "What is Abstraction in OOps?\n",
    "abstraction is one of the fundamental principles that allows you to\n",
    "simplify complex systems by modeling them at a higher level of\n",
    "abstraction. It involves hiding the complex implementation details of an\n",
    "object and exposing only the essential features and behaviors that are\n",
    "relevant to the outside world. Abstraction helps in managing the \n",
    "complexity of software systems and makes it easier to work with objects \n",
    "by focusing on what an object does rather than how it does it."
   ]
  },
  {
   "cell_type": "code",
   "execution_count": 1,
   "id": "ae5acd1e-3d46-4195-a6a9-c3b7b5cd3870",
   "metadata": {},
   "outputs": [],
   "source": [
    "# EX :-\n",
    "class Car:\n",
    "    def __init__(self, make, model, color):\n",
    "        self.make = make\n",
    "        self.model = model\n",
    "        self.color = color\n",
    "        self.speed = 0\n",
    "\n",
    "    def start(self):\n",
    "       \n",
    "        pass\n",
    "\n",
    "    def stop(self):\n",
    "      \n",
    "        pass\n",
    "\n",
    "    def accelerate(self):\n",
    "       \n",
    "        pass\n",
    "\n",
    "    def get_speed(self):\n",
    "        return self.speed\n"
   ]
  },
  {
   "cell_type": "markdown",
   "id": "c740012a-948a-4f86-b5c9-e64c0ff9d998",
   "metadata": {},
   "source": [
    "Q2. Differentiate between Abstraction and Encapsulation. Explain with an\n",
    "example."
   ]
  },
  {
   "cell_type": "code",
   "execution_count": 2,
   "id": "08730f36-e36c-423c-af85-cae82d5da153",
   "metadata": {},
   "outputs": [],
   "source": [
    "# Abstraction:\n",
    "\n",
    "\"\"\"\n",
    "Purpose: \n",
    "Abstraction is a concept that focuses on hiding the complex internal\n",
    "details of an object and exposing only the essential features and\n",
    "behaviors relevant to the outside world. It emphasizes what an object\n",
    "does without concerning itself with how it achieves those actions.\n",
    "\n",
    "\"\"\"\n",
    "\n",
    "# Example :\n",
    "class Car:\n",
    "    def start(self):\n",
    "        # Code to start the car goes here\n",
    "        pass\n",
    "\n",
    "    def stop(self):\n",
    "        # Code to stop the car goes here\n",
    "        pass\n",
    "\n",
    "    def accelerate(self):\n",
    "        # Code to accelerate the car goes here\n",
    "        pass\n"
   ]
  },
  {
   "cell_type": "code",
   "execution_count": 3,
   "id": "3fd42a97-7212-424b-a22e-cefec7ed169a",
   "metadata": {},
   "outputs": [],
   "source": [
    "# Encapsulation:\n",
    "\"\"\"\n",
    "Purpose:\n",
    "Encapsulation, on the other hand, is about bundling the data (attributes)\n",
    "and methods (functions) that operate on that data into a single unit,\n",
    "often called a class. It restricts direct access to an object's internal\n",
    "state and enforces access through well-defined interfaces (getter and\n",
    "setter methods).\n",
    "\"\"\"\n",
    "\n",
    "#EX :-\n",
    "class Person:\n",
    "    def __init__(self, name, age):\n",
    "        self.__name = name \n",
    "        self.__age = age   \n",
    "\n",
    "    # Getter method to access name\n",
    "    def get_name(self):\n",
    "        return self.__name\n",
    "\n",
    "    # Getter method to access age\n",
    "    def get_age(self):\n",
    "        return self.__age\n",
    "\n",
    "    # Setter method to modify age\n",
    "    def set_age(self, new_age):\n",
    "        if new_age >= 0:\n",
    "            self.__age = new_age\n",
    "        else:\n",
    "            print(\"Age cannot be negative.\")\n"
   ]
  },
  {
   "cell_type": "markdown",
   "id": "85a4c950-8a44-4551-948e-4d206972678f",
   "metadata": {},
   "source": [
    "Q3. What is abc module in python? Why is it used?"
   ]
  },
  {
   "cell_type": "markdown",
   "id": "26862446-10a4-41cf-a90d-d141dd7862bc",
   "metadata": {},
   "source": [
    "# What is abc module in python?\n",
    "\n",
    "The abc module in Python stands for \"Abstract Base Classes.\" It is a \n",
    "built-in module that provides mechanisms for defining abstract base\n",
    "classes in Python. Abstract base classes are a way to define a common\n",
    "interface or contract that derived classes must adhere to. \n",
    "\n",
    "# Why is it used?\n",
    "he abc module is used to enhance the structure, reliability, and\n",
    "maintainability of Python code by enforcing method implementation,\n",
    "defining common interfaces, supporting polymorphism, and making code more\n",
    "self-documenting. It encourages adherence to a specific contract, which \n",
    "can help prevent errors and ensure that classes work together seamlessly \n",
    "in a larger codebase."
   ]
  },
  {
   "cell_type": "markdown",
   "id": "6372a4ad-1fde-4c57-b1e8-ef00dc4c92f7",
   "metadata": {},
   "source": [
    "Q4. How can we achieve data abstraction?"
   ]
  },
  {
   "cell_type": "code",
   "execution_count": 4,
   "id": "89a4371e-e3a9-4dc4-ad8d-649f87557d25",
   "metadata": {},
   "outputs": [
    {
     "name": "stdout",
     "output_type": "stream",
     "text": [
      "Account Number: 12345\n",
      "Account Balance: 500\n"
     ]
    }
   ],
   "source": [
    "class BankAccount:\n",
    "    def __init__(self, account_number, balance=0):\n",
    "        self.__account_number = account_number  # Encapsulated as private\n",
    "        self.__balance = balance\n",
    "\n",
    "    def deposit(self, amount):\n",
    "        if amount > 0:\n",
    "            self.__balance += amount\n",
    "\n",
    "    def withdraw(self, amount):\n",
    "        if 0 < amount <= self.__balance:\n",
    "            self.__balance -= amount\n",
    "        else:\n",
    "            print(\"Insufficient balance.\")\n",
    "\n",
    "    def get_balance(self):\n",
    "        return self.__balance\n",
    "\n",
    "    def get_account_number(self):\n",
    "        return self.__account_number\n",
    "\n",
    "# Creating an instance of the class\n",
    "account = BankAccount(\"12345\")\n",
    "\n",
    "# Depositing and withdrawing money\n",
    "account.deposit(1000)\n",
    "account.withdraw(500)\n",
    "\n",
    "# Accessing account balance and account number through accessor methods\n",
    "print(\"Account Number:\", account.get_account_number())\n",
    "print(\"Account Balance:\", account.get_balance())\n"
   ]
  },
  {
   "cell_type": "markdown",
   "id": "d1480c71-8175-4f9e-a22a-c8050eee87e0",
   "metadata": {},
   "source": [
    "Q5. Can we create an instance of an abstract class? Explain your answer."
   ]
  },
  {
   "cell_type": "markdown",
   "id": "6c166c55-7e46-4e7a-8b75-96a733aa752e",
   "metadata": {},
   "source": [
    "No, we cannot create an instance of an abstract class in most object-oriented programming languages, including Python. Abstract classes are designed to be incomplete and serve as a blueprint for other classes (concrete subclasses) to inherit from and implement. They are meant to provide a common interface or contract that specifies the methods that must be implemented by their subclasses.\n",
    "\n",
    "In Python, abstract classes are typically created using the abc module's ABC (Abstract Base Class) mechanism, and they can include abstract methods defined using the @abstractmethod decorator. An abstract method is a method declared in the abstract base class but without any implementation.\n",
    "\n",
    "Attempting to create an instance of an abstract class in Python will result in a TypeError. Python's design philosophy encourages the use of concrete subclasses that inherit from abstract base classes to provide implementations for the abstract methods. These concrete subclasses can then be instantiated."
   ]
  }
 ],
 "metadata": {
  "kernelspec": {
   "display_name": "Python 3 (ipykernel)",
   "language": "python",
   "name": "python3"
  },
  "language_info": {
   "codemirror_mode": {
    "name": "ipython",
    "version": 3
   },
   "file_extension": ".py",
   "mimetype": "text/x-python",
   "name": "python",
   "nbconvert_exporter": "python",
   "pygments_lexer": "ipython3",
   "version": "3.10.8"
  }
 },
 "nbformat": 4,
 "nbformat_minor": 5
}
